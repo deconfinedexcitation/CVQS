{
 "cells": [
  {
   "cell_type": "code",
   "execution_count": 123,
   "metadata": {},
   "outputs": [],
   "source": [
    "import numpy as np\n",
    "import scipy as sp\n",
    "import matplotlib as mpl\n",
    "from matplotlib import pyplot as plt\n",
    "from scipy import linalg\n",
    "from scipy.special import gamma, factorial, binom, comb,i0,iv,ive\n",
    "\n",
    "from matplotlib.patches import Ellipse\n",
    "\n",
    "# ener=np.linspace(-2,1,200)\n",
    "# ener=10**ener\n",
    "\n",
    "ener=np.linspace(1.1,1.16,20)\n",
    "\n",
    "import pandas as pd\n",
    "fff=pd.read_csv(\"file_name.csv\",header=None)\n",
    "#Convert to ndarray\n",
    "dats=np.asarray(fff)\n",
    "\n",
    "E,d,qq,pp,aa,ang=[],[],[],[],[],[]\n",
    "for j in range(len(dats)):\n",
    "    E.append(ener[j])\n",
    "    d.append([dats[j][2],dats[j][3]])\n",
    "    qq.append(np.array([(1/(2*dats[j][2])),(1/(2*dats[j][3]))]))\n",
    "    pp.append(1/qq[j])\n",
    "    aa.append(np.array([np.sqrt((2*ener[j])+1-(dats[j][2]/2)-(1/(2*dats[j][2]))),-np.sqrt((2*ener[j])+1-(dats[j][3]/2)-(1/(2*dats[j][3])))]))\n",
    "    ang.append(180*np.array([dats[j][0],dats[j][1]])/np.pi)\n"
   ]
  },
  {
   "cell_type": "code",
   "execution_count": 39,
   "metadata": {},
   "outputs": [
    {
     "data": {
      "text/plain": [
       "array([-3.86587513e-07, -1.05849870e-04,  2.38240366e-02,  3.54702812e+00])"
      ]
     },
     "execution_count": 39,
     "metadata": {},
     "output_type": "execute_result"
    }
   ],
   "source": [
    "dats[-1]"
   ]
  },
  {
   "cell_type": "code",
   "execution_count": 34,
   "metadata": {},
   "outputs": [],
   "source": [
    "enercheck=[]\n",
    "for k in range(len(dats)):\n",
    "    enercheck.append((2*ener[k])+1-( (dats[k][2]/2)+(1/(2*dats[k][2])) ))"
   ]
  },
  {
   "cell_type": "code",
   "execution_count": 124,
   "metadata": {},
   "outputs": [
    {
     "data": {
      "text/plain": [
       "20"
      ]
     },
     "execution_count": 124,
     "metadata": {},
     "output_type": "execute_result"
    }
   ],
   "source": [
    "len(dats)"
   ]
  },
  {
   "cell_type": "code",
   "execution_count": 136,
   "metadata": {},
   "outputs": [
    {
     "data": {
      "image/png": "[encoded data removed]",
      "text/plain": [
       "<Figure size 720x720 with 1 Axes>"
      ]
     },
     "metadata": {
      "needs_background": "light"
     },
     "output_type": "display_data"
    }
   ],
   "source": [
    "ell=[]\n",
    "#phi=np.zeros(len(dats))\n",
    "# for k in range(0,len(dats),2):\n",
    "#     phi[k]=(2*np.pi*k/(len(dats)/2))\n",
    "#     mean = np.array([ aa[k][0] ,  0])@np.array([[np.cos(phi[k]),-np.sin(phi[k])],[np.sin(phi[k]),np.cos(phi[k])]])\n",
    "#     mean1 = np.array([ aa[k][1] ,  0])@np.array([[np.cos(phi[k]),-np.sin(phi[k])],[np.sin(phi[k]),np.cos(phi[k])]])\n",
    "#     width = qq[k][0]\n",
    "#     width1 = qq[k][1]\n",
    "#     height = pp[k][0]\n",
    "#     height1 = pp[k][1]\n",
    "#     rot = ang[k][0]\n",
    "#     rot1 = ang[k][1]\n",
    "#     ell.append(mpl.patches.Ellipse(xy=mean, width=width, height=height, angle = rot+phi[k]))\n",
    "#     ell.append(mpl.patches.Ellipse(xy=mean1, width=width1, height=height1, angle = rot1+phi[k]))\n",
    "\n",
    "for k in range(len(dats)):\n",
    "    mean = np.array([ aa[k][0] ,  0])\n",
    "    mean1 = np.array([ aa[k][1] ,  0])\n",
    "    width = qq[k][0]\n",
    "    width1 = qq[k][1]\n",
    "    height = pp[k][0]\n",
    "    height1 = pp[k][1]\n",
    "    rot = ang[k][0]\n",
    "    rot1 = ang[k][1]\n",
    "    ell.append(mpl.patches.Ellipse(xy=mean, width=width, height=height, angle = rot))\n",
    "    ell.append(mpl.patches.Ellipse(xy=mean1, width=width1, height=height1, angle = rot1))\n",
    "\n",
    "fig, ax = plt.subplots(figsize=(10,10))\n",
    "\n",
    "for j in range(20,24):\n",
    "    ell[j].set_alpha(0.5)\n",
    "    \n",
    "    if np.mod(j,2)==0:\n",
    "        col=np.random.rand(3)\n",
    "        ell[j].set_color(col)\n",
    "    else:\n",
    "        ell[j].set_color(col)\n",
    "    ax.add_artist(ell[j])\n",
    "\n",
    "ax.set_aspect('equal')\n",
    "ax.set_xlim(-4, 4)\n",
    "ax.set_ylim(-4, 4)\n",
    "plt.show()"
   ]
  },
  {
   "cell_type": "code",
   "execution_count": 139,
   "metadata": {},
   "outputs": [
    {
     "data": {
      "text/plain": [
       "1.131578947368421"
      ]
     },
     "execution_count": 139,
     "metadata": {},
     "output_type": "execute_result"
    }
   ],
   "source": [
    "ener[10]"
   ]
  },
  {
   "cell_type": "code",
   "execution_count": 137,
   "metadata": {},
   "outputs": [
    {
     "data": {
      "text/plain": [
       "20"
      ]
     },
     "execution_count": 137,
     "metadata": {},
     "output_type": "execute_result"
    }
   ],
   "source": [
    "len(ener)"
   ]
  },
  {
   "cell_type": "code",
   "execution_count": 114,
   "metadata": {},
   "outputs": [
    {
     "data": {
      "text/plain": [
       "60"
      ]
     },
     "execution_count": 114,
     "metadata": {},
     "output_type": "execute_result"
    }
   ],
   "source": [
    "len(ell)"
   ]
  },
  {
   "cell_type": "code",
   "execution_count": null,
   "metadata": {},
   "outputs": [],
   "source": []
  }
 ],
 "metadata": {
  "kernelspec": {
   "display_name": "Python 3",
   "language": "python",
   "name": "python3"
  },
  "language_info": {
   "codemirror_mode": {
    "name": "ipython",
    "version": 3
   },
   "file_extension": ".py",
   "mimetype": "text/x-python",
   "name": "python",
   "nbconvert_exporter": "python",
   "pygments_lexer": "ipython3",
   "version": "3.7.7"
  }
 },
 "nbformat": 4,
 "nbformat_minor": 4
}
